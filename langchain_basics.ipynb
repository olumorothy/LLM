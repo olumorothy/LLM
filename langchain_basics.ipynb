{
 "cells": [
  {
   "cell_type": "code",
   "execution_count": 3,
   "id": "5d3059de-594f-4380-beff-393ce6a7f5d6",
   "metadata": {},
   "outputs": [
    {
     "name": "stdout",
     "output_type": "stream",
     "text": [
      "\u001b[33mWARNING: You are using pip version 22.0.4; however, version 23.3.2 is available.\n",
      "You should consider upgrading via the '/Library/Frameworks/Python.framework/Versions/3.10/bin/python3.10 -m pip install --upgrade pip' command.\u001b[0m\u001b[33m\n",
      "\u001b[0m"
     ]
    }
   ],
   "source": [
    "!pip3 install -r ./requirements.txt -q"
   ]
  },
  {
   "cell_type": "code",
   "execution_count": 26,
   "id": "858bdbdb-cb84-42a3-8efb-084a03096d78",
   "metadata": {},
   "outputs": [],
   "source": [
    "#pip install openai"
   ]
  },
  {
   "cell_type": "code",
   "execution_count": 4,
   "id": "9a98321e-1da2-44a1-9cc6-5a02f2b1c7ed",
   "metadata": {},
   "outputs": [
    {
     "name": "stdout",
     "output_type": "stream",
     "text": [
      "Collecting python-dotenv\n",
      "  Downloading python_dotenv-1.0.0-py3-none-any.whl (19 kB)\n",
      "Installing collected packages: python-dotenv\n",
      "Successfully installed python-dotenv-1.0.0\n",
      "\n",
      "\u001b[1m[\u001b[0m\u001b[34;49mnotice\u001b[0m\u001b[1;39;49m]\u001b[0m\u001b[39;49m A new release of pip is available: \u001b[0m\u001b[31;49m23.3.1\u001b[0m\u001b[39;49m -> \u001b[0m\u001b[32;49m23.3.2\u001b[0m\n",
      "\u001b[1m[\u001b[0m\u001b[34;49mnotice\u001b[0m\u001b[1;39;49m]\u001b[0m\u001b[39;49m To update, run: \u001b[0m\u001b[32;49m/opt/homebrew/Cellar/jupyterlab/4.0.9_2/libexec/bin/python -m pip install --upgrade pip\u001b[0m\n",
      "Note: you may need to restart the kernel to use updated packages.\n"
     ]
    }
   ],
   "source": [
    "pip install python-dotenv"
   ]
  },
  {
   "cell_type": "markdown",
   "id": "dad1db8a-3387-432f-81f6-8ddea6fe6d96",
   "metadata": {},
   "source": [
    "### Python-dotenv"
   ]
  },
  {
   "cell_type": "code",
   "execution_count": 17,
   "id": "ffb06a7c-7701-47fb-b3aa-9053f0e37524",
   "metadata": {},
   "outputs": [],
   "source": [
    "import os\n",
    "from dotenv import load_dotenv, find_dotenv\n",
    "load_dotenv(find_dotenv(),override=True)\n",
    "os.environ.get('OPENAI_API_KEY')\n"
   ]
  },
  {
   "cell_type": "markdown",
   "id": "833f65ab-dbd0-45d3-b6dc-304f0a2eaa5c",
   "metadata": {},
   "source": [
    "### LLM Models (Wrappers):GPT-3"
   ]
  },
  {
   "cell_type": "code",
   "execution_count": 16,
   "id": "a1a49bd1-41c3-4a35-af67-933df1577344",
   "metadata": {},
   "outputs": [],
   "source": [
    "from langchain.llms import OpenAI"
   ]
  },
  {
   "cell_type": "code",
   "execution_count": 28,
   "id": "84263cc5-e849-4261-910e-d2dfcf3151e5",
   "metadata": {},
   "outputs": [
    {
     "name": "stdout",
     "output_type": "stream",
     "text": [
      "\u001b[1mOpenAI\u001b[0m\n",
      "Params: {'model_name': 'text-davinci-003', 'temperature': 0.7, 'top_p': 1, 'frequency_penalty': 0, 'presence_penalty': 0, 'n': 1, 'logit_bias': {}, 'max_tokens': 512}\n"
     ]
    }
   ],
   "source": [
    "llm = OpenAI(model_name='text-davinci-003',temperature=0.7,max_tokens=512)\n",
    "print(llm)"
   ]
  },
  {
   "cell_type": "code",
   "execution_count": 29,
   "id": "07496cf5-4dc5-424f-8069-22bc7b0918ee",
   "metadata": {},
   "outputs": [
    {
     "name": "stdout",
     "output_type": "stream",
     "text": [
      "\n",
      "\n",
      "A smart contract is a self-executing digital agreement stored on a blockchain that is designed to automatically enforce the terms of a contract.\n"
     ]
    }
   ],
   "source": [
    "output = llm('explain smart contract in one sentence')\n",
    "print(output)"
   ]
  },
  {
   "cell_type": "markdown",
   "id": "d1aa07a0-6a5e-462f-9177-5de274f8c742",
   "metadata": {},
   "source": [
    "### ChatModels: GPT-3.5-Turbo and GPT-4"
   ]
  },
  {
   "cell_type": "code",
   "execution_count": 2,
   "id": "7f6bd098-e976-4754-ab01-4b42a05a2cd5",
   "metadata": {},
   "outputs": [],
   "source": [
    "from langchain.schema import(AIMessage,HumanMessage,SystemMessage)\n",
    "from langchain.chat_models import ChatOpenAI"
   ]
  },
  {
   "cell_type": "code",
   "execution_count": 6,
   "id": "8912809f-2c26-4612-9006-07aacec18606",
   "metadata": {},
   "outputs": [],
   "source": [
    "chat = ChatOpenAI(model_name='gpt-3.5-turbo', temperature=0.5,max_tokens=1024)\n",
    "messages=[\n",
    "    SystemMessage(content='You are a physicist and respond only in German.'),\n",
    "    HumanMessage(content='explain quantum mechanics in one sentence')\n",
    "]\n",
    "output = chat(messages)"
   ]
  },
  {
   "cell_type": "code",
   "execution_count": 7,
   "id": "59eb4bb1-dfd7-4c1f-ae8d-daed6e4ebb77",
   "metadata": {},
   "outputs": [
    {
     "name": "stdout",
     "output_type": "stream",
     "text": [
      "content='Quantenmechanik beschreibt das Verhalten von Teilchen auf subatomarer Ebene, indem sie sowohl Wellen- als auch Teilcheneigenschaften besitzen.'\n"
     ]
    }
   ],
   "source": [
    "print(output)"
   ]
  },
  {
   "cell_type": "markdown",
   "id": "16b747c9-07a4-44ae-90b8-b599fefec00b",
   "metadata": {},
   "source": [
    "### Prompt Templates"
   ]
  },
  {
   "cell_type": "code",
   "execution_count": 8,
   "id": "5d69451a-44f7-4ea9-8859-f512333c4c46",
   "metadata": {},
   "outputs": [],
   "source": [
    "from langchain import PromptTemplate"
   ]
  },
  {
   "cell_type": "code",
   "execution_count": 9,
   "id": "97db7429-c2c1-4158-ad88-8e493880967c",
   "metadata": {},
   "outputs": [
    {
     "name": "stdout",
     "output_type": "stream",
     "text": [
      "input_variables=['language', 'virus'] template='You are an experienced virologist.\\nWrite a few sentences about the following {virus} in {language}.'\n"
     ]
    }
   ],
   "source": [
    "template = '''You are an experienced virologist.\n",
    "Write a few sentences about the following {virus} in {language}.'''\n",
    "\n",
    "prompt= PromptTemplate(\n",
    "    input_variables=['virus','language'],\n",
    "    template=template\n",
    ")\n",
    "print(prompt)"
   ]
  },
  {
   "cell_type": "code",
   "execution_count": 20,
   "id": "21b9f090-f1c8-4d2b-ac18-2f7a411f1a63",
   "metadata": {},
   "outputs": [
    {
     "name": "stdout",
     "output_type": "stream",
     "text": [
      "\n",
      "\n",
      "Ebola is a highly infectious and deadly viral disease that was first identified in 1976 in Sudan and the Democratic Republic of Congo. It is caused by the Ebola virus, which is transmitted to humans through contact with infected animal blood or bodily fluids. The disease is characterized by high fever, severe bleeding, and organ failure, with a mortality rate of up to 90%. There have been several outbreaks of Ebola in Africa, with the largest and most recent occurring in 2014-2016, which resulted in over 11,000 deaths. Efforts are ongoing to better understand the virus and develop effective treatments and vaccines to prevent future outbreaks.\n"
     ]
    }
   ],
   "source": [
    "from langchain.llms import OpenAI\n",
    "llm = OpenAI(model_name='gpt-3.5-turbo-instruct',temperature=0.7)\n",
    "output = llm(prompt.format(virus='ebola',language='english'))\n",
    "print(output)"
   ]
  },
  {
   "cell_type": "markdown",
   "id": "004acc87-210b-4feb-a1ed-44ff2ae28c8a",
   "metadata": {},
   "source": [
    "### Simple Chain"
   ]
  },
  {
   "cell_type": "code",
   "execution_count": 23,
   "id": "a7bf9481-b542-4372-a362-5a8a35160f41",
   "metadata": {},
   "outputs": [],
   "source": [
    "# chain allows us to combine multiple input together\n",
    "from langchain.chat_models import ChatOpenAI\n",
    "from langchain import PromptTemplate\n",
    "from langchain.chains import LLMChain\n",
    "\n",
    "llm = ChatOpenAI(model_name= 'gpt-3.5-turbo', temperature= 0.7)\n",
    "template = '''You are an experienced virologist.\n",
    "Write a few sentences about the following {virus} in {language}.'''\n",
    "\n",
    "prompt= PromptTemplate(\n",
    "    input_variables=['virus','language'],\n",
    "    template=template\n",
    ")\n",
    "\n",
    "#creates a simple chain that takes in a prompt template.\n",
    "#formats it with the user input and returns the response from the LLM.\n",
    "chain = LLMChain(llm=llm,prompt=prompt) \n",
    "output = chain.run({'virus':'HSV','language':'english'})\n"
   ]
  },
  {
   "cell_type": "code",
   "execution_count": 24,
   "id": "e7ce29b7-407a-4812-ab50-8a12a39eeab3",
   "metadata": {},
   "outputs": [
    {
     "name": "stdout",
     "output_type": "stream",
     "text": [
      "HSV, or herpes simplex virus, is a common viral infection that affects humans. It is classified into two types: HSV-1 and HSV-2. HSV-1 is primarily associated with oral herpes, causing cold sores or fever blisters around the mouth and on the face. On the other hand, HSV-2 is mainly responsible for genital herpes, causing painful blisters or sores in the genital area. Both types of HSV can be transmitted through direct contact with an infected individual, and although the virus cannot be cured, antiviral medications can help manage and reduce the frequency of outbreaks.\n"
     ]
    }
   ],
   "source": [
    "print(output)"
   ]
  },
  {
   "cell_type": "code",
   "execution_count": null,
   "id": "8d2376c3-e718-4bba-a364-3b1b3316c61a",
   "metadata": {},
   "outputs": [],
   "source": []
  }
 ],
 "metadata": {
  "kernelspec": {
   "display_name": "Python 3 (ipykernel)",
   "language": "python",
   "name": "python3"
  },
  "language_info": {
   "codemirror_mode": {
    "name": "ipython",
    "version": 3
   },
   "file_extension": ".py",
   "mimetype": "text/x-python",
   "name": "python",
   "nbconvert_exporter": "python",
   "pygments_lexer": "ipython3",
   "version": "3.12.1"
  }
 },
 "nbformat": 4,
 "nbformat_minor": 5
}
